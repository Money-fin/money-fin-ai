{
 "cells": [
  {
   "cell_type": "code",
   "execution_count": 1,
   "metadata": {},
   "outputs": [],
   "source": [
    "import matplotlib.pyplot as plt\n",
    "import numpy as np\n",
    "import torch\n",
    "from torch import nn, optim\n",
    "from konlpy.tag import Kkma\n",
    "from konlpy.utils import pprint\n",
    "from IPython.display import clear_output\n",
    "\n",
    "from models import *\n",
    "from utils import DataLoader2"
   ]
  },
  {
   "cell_type": "code",
   "execution_count": 2,
   "metadata": {},
   "outputs": [],
   "source": [
    "EPOCHS = 10\n",
    "BATCH_SIZE = 256\n",
    "ETA = 1e-3"
   ]
  },
  {
   "cell_type": "code",
   "execution_count": 3,
   "metadata": {},
   "outputs": [],
   "source": [
    "train_loader = DataLoader2(BATCH_SIZE, mode=\"train\")"
   ]
  },
  {
   "cell_type": "code",
   "execution_count": 9,
   "metadata": {},
   "outputs": [],
   "source": [
    "x, y = next(iter(train_loader.next_batch()))"
   ]
  },
  {
   "cell_type": "code",
   "execution_count": 10,
   "metadata": {},
   "outputs": [
    {
     "data": {
      "text/plain": [
       "['서울 강동구 상일동의 희림 본사 내부의 모습. 창립50주년을 맞아 오픈하우스 행사를 개최했다. [희림 제공]',\n",
       " '[헤럴드경제=양대근 기자] 글로벌 건축설계 및 CM·감리업체 희림종합건축사사무소(이하 희림)가 창립 50주년을 맞아 서울 강동구 상일동 본사에서 열린 오픈하우스 기념행사가 성황리에 마무리됐다고 13일 밝혔다.',\n",
       " '이번 오픈하우스 기념행사는 고객의 성원에 대한 감사의 마음을 전하고, 희림의 50년 발자취를 뒤돌아보고 이를 발판 삼아 새로운 미래로 도약하기 위해 마련됐다.',\n",
       " '희림은 이번 행사를 위해 본사 업무공간 일부를 갤러리에 온 듯한 분위기의 전시형 체험공간으로 조성했다. 그래픽 일러스트로 재해석한 포스터, 3D 프린터를 활용한 건축모형, 가상현실 기술이 접목된 VR 체험, 희림의 역사와 비전을 담은 영상, 작품 패널, 히스토리월 등 다채로운 콘텐츠를 통해 방문객들에게 희림의 역사와 철학, 희림의 비전과 미래상이 공개됐다.',\n",
       " '이날 행사에는 고객, 임직원 가족을 비롯해 파트너사, 대학교, 건축·건설업계, 금융업계, 협회·기관 등 각계각층의 주요인사들이 대거 참석했다.',\n",
       " '지난 1970년에 설립한 희림은 IMF 외환위기, 글로벌 금융위기 등 어려운 경제상황 속에서도 지속적인 혁신과 도전으로 우리나라를 대표하는 건축서비스기업으로 성장했다. 지난 50년 동안 1000여건의 디자인 경험과 노하우를 축적했으며, 특히 설계 기술의 집약체인 공항, 경기장, 병원, 스마트시티, 초고층빌딩, 스마트주거 등 고부가 특수설계분야에서 두각을 나타내고 있다.',\n",
       " '또한 설계와 CM을 결합한 DCM서비스를 선보여 품질을 향상하고, 공기단축과 원가절감을 이루며, 국내 건축시장에 새로운 패러다임을 이끌어냈다는 평가다.',\n",
       " '지난 2000년부터는 해외시장에 진출해 지속적인 시장개척과 성장으로 현재 12개의 해외지사, 현지법인, 연락사무소를 보유하고 있으며, 전세계 40여개국에 설계 및 CM 서비스를 제공하고 있다. 해외에서 수많은 랜드마크를 설계하며 기술력을 인정받고 있으며, 다수의 해외수상으로 글로벌 기업으로서의 입지를 확고히 하고 있다.',\n",
       " '한편 희림은 2020년을 100년의 역사를 쓰는 신경영의 원년으로 삼고, ‘지속가능하고 스마트한 글로벌 탑티어(Top-Tier) 건축기업’을 목표로 하는 새로운 비전을 제시했다. 해외시장 확대 및 집중, 사업 포트폴리오 확대, 국내외 수주역량 강화, 기술 활용 고도화, 서비스 영역 확대 및 신사업 추진, 경영 효율성 극대화 등을 통해 목표를 달성하고 한단계 더 도약한다는 계획이다.',\n",
       " '희림 관계자는 “지난 50년간의 모든 성과는 고객, 파트너사, 임직원 등 많은 분들의 성원과 지지가 있었기에 가능했다”며, “항상 감사한 마음으로 앞으로 국내 건축산업과 문화 발전, 나아가 해외수출을 통한 대한민국 경제발전에도 많은 기여를 할 것이다. 또 최첨단 스마트 건축기술과 서비스를 통한 지속가능한 미래 건축을 만들어가는데 선도적인 역할을 할 것”이라고 말했다.']"
      ]
     },
     "execution_count": 10,
     "metadata": {},
     "output_type": "execute_result"
    }
   ],
   "source": [
    "x[2]"
   ]
  },
  {
   "cell_type": "code",
   "execution_count": null,
   "metadata": {},
   "outputs": [],
   "source": []
  }
 ],
 "metadata": {
  "kernelspec": {
   "display_name": "Python 3",
   "language": "python",
   "name": "python3"
  },
  "language_info": {
   "codemirror_mode": {
    "name": "ipython",
    "version": 3
   },
   "file_extension": ".py",
   "mimetype": "text/x-python",
   "name": "python",
   "nbconvert_exporter": "python",
   "pygments_lexer": "ipython3",
   "version": "3.7.7"
  }
 },
 "nbformat": 4,
 "nbformat_minor": 4
}
