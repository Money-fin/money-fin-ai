{
 "cells": [
  {
   "cell_type": "code",
   "execution_count": 1,
   "metadata": {},
   "outputs": [],
   "source": [
    "import matplotlib.pyplot as plt\n",
    "import numpy as np\n",
    "import torch\n",
    "from torch import nn, optim\n",
    "from konlpy.tag import Kkma\n",
    "from konlpy.utils import pprint\n",
    "from IPython.display import clear_output\n",
    "\n",
    "from models import *\n",
    "from utils import DataLoader2"
   ]
  },
  {
   "cell_type": "code",
   "execution_count": 2,
   "metadata": {},
   "outputs": [],
   "source": [
    "EPOCHS = 10\n",
    "BATCH_SIZE = 256\n",
    "ETA = 1e-3"
   ]
  },
  {
   "cell_type": "code",
   "execution_count": 3,
   "metadata": {},
   "outputs": [],
   "source": [
    "# dloader = DataLoader(10)\n",
    "train_loader = DataLoader2(BATCH_SIZE, mode=\"train\")\n",
    "valid_loader = DataLoader2(BATCH_SIZE, mode=\"valid\")\n",
    "test_loader = DataLoader2(BATCH_SIZE, mode=\"test\")"
   ]
  },
  {
   "cell_type": "code",
   "execution_count": 4,
   "metadata": {},
   "outputs": [],
   "source": [
    "# x, y = next(dloader.next_batch())"
   ]
  },
  {
   "cell_type": "code",
   "execution_count": 5,
   "metadata": {},
   "outputs": [],
   "source": [
    "# x[0]"
   ]
  },
  {
   "cell_type": "code",
   "execution_count": 6,
   "metadata": {},
   "outputs": [],
   "source": [
    "sentence_enc = SentenceEncoder().cuda()\n",
    "context_enc = ContextEncoder().cuda()\n",
    "# mine_est = MINE().cuda()\n",
    "sentiment_clf = SentimentPredictor().cuda()"
   ]
  },
  {
   "cell_type": "code",
   "execution_count": 7,
   "metadata": {},
   "outputs": [],
   "source": [
    "optimizer = optim.Adam([\n",
    "    *sentence_enc.parameters(),\n",
    "    *context_enc.parameters(),\n",
    "    # *mine_est.parameters(),\n",
    "    *sentiment_clf.parameters()\n",
    "], lr=ETA)"
   ]
  },
  {
   "cell_type": "code",
   "execution_count": 8,
   "metadata": {},
   "outputs": [],
   "source": [
    "bce_criterion = nn.BCELoss()"
   ]
  },
  {
   "cell_type": "code",
   "execution_count": 9,
   "metadata": {},
   "outputs": [],
   "source": [
    "def compute_accuracy(preds, y):\n",
    "    preds[preds >= 0.5] = 1\n",
    "    preds[preds < 0.5] = 0\n",
    "#     print(preds)\n",
    "#     print(y)\n",
    "    \n",
    "    return torch.mean((y == preds).type(torch.FloatTensor))"
   ]
  },
  {
   "cell_type": "code",
   "execution_count": 10,
   "metadata": {},
   "outputs": [],
   "source": [
    "def train_step(x, y):\n",
    "    N = len(x)\n",
    "    \n",
    "    #zs = []\n",
    "    #cs = []\n",
    "    preds = []\n",
    "    \n",
    "    for i in range(N):\n",
    "        z = []\n",
    "        n = len(x[i])\n",
    "\n",
    "        for j in range(n):\n",
    "            sentence = x[i][j]\n",
    "            # print(len(sentence))\n",
    "            sentence = np.array(sentence, dtype=np.float32)\n",
    "            sentence = torch.LongTensor(sentence).cuda().view(1, -1, 1)\n",
    "\n",
    "            z.append(sentence_enc(sentence))\n",
    "\n",
    "        z = torch.stack(z, dim=1)\n",
    "        c = context_enc(z)\n",
    "        \n",
    "        #zs.append(z)\n",
    "        #cs.append(c)\n",
    "        \n",
    "        pred = sentiment_clf(c)\n",
    "        preds.append(pred)\n",
    "        \n",
    "    preds = torch.cat(preds, dim=0).view(-1)\n",
    "    y = torch.FloatTensor(y).cuda()\n",
    "    \n",
    "    #mi = mine_est(zs, cs)\n",
    "    #loss_mi = -mi\n",
    "    loss_bce_0 = bce_criterion(preds[y == 0], y[y == 0])\n",
    "    loss_bce_1 = bce_criterion(preds[y == 1], y[y == 1])\n",
    "    # print(loss_mi, loss_bce)\n",
    "\n",
    "    loss_bce = (5/6)*loss_bce_0 + (1/6)*loss_bce_1\n",
    "    \n",
    "    #loss = loss_mi + loss_bce\n",
    "    loss = loss_bce\n",
    "    \n",
    "    optimizer.zero_grad()\n",
    "    loss.backward()\n",
    "    optimizer.step()\n",
    "    \n",
    "    acc = compute_accuracy(preds, y)\n",
    "    \n",
    "    return loss.item(), acc"
   ]
  },
  {
   "cell_type": "code",
   "execution_count": 11,
   "metadata": {},
   "outputs": [],
   "source": [
    "def test_step(x, y):\n",
    "    N = len(x)\n",
    "    preds = []\n",
    "    \n",
    "    for i in range(N):\n",
    "        z = []\n",
    "        n = len(x[i])\n",
    "\n",
    "        for j in range(n):\n",
    "            sentence = x[i][j]\n",
    "            # print(len(sentence))\n",
    "            sentence = np.array(sentence, dtype=np.float32)\n",
    "            sentence = torch.LongTensor(sentence).cuda().view(1, -1, 1)\n",
    "\n",
    "            z.append(sentence_enc(sentence))\n",
    "\n",
    "        z = torch.stack(z, dim=1)\n",
    "        c = context_enc(z)\n",
    "        \n",
    "        pred = sentiment_clf(c)\n",
    "        preds.append(pred)\n",
    "        \n",
    "    preds = torch.cat(preds, dim=0).view(-1)\n",
    "    y = torch.FloatTensor(y).cuda()\n",
    "    \n",
    "    acc = compute_accuracy(preds, y)\n",
    "    return acc"
   ]
  },
  {
   "cell_type": "code",
   "execution_count": 12,
   "metadata": {},
   "outputs": [],
   "source": [
    "def train_mode():\n",
    "    sentence_enc.train()\n",
    "    context_enc.train()\n",
    "    #mine_est.train()\n",
    "    sentiment_clf.train()\n",
    "\n",
    "def eval_mode():\n",
    "    sentence_enc.eval()\n",
    "    context_enc.eval()\n",
    "    #mine_est.eval()\n",
    "    sentiment_clf.eval()"
   ]
  },
  {
   "cell_type": "code",
   "execution_count": 13,
   "metadata": {},
   "outputs": [],
   "source": [
    "def train():\n",
    "    \n",
    "    train_losses = []\n",
    "    train_accs = []\n",
    "    valid_accs = []\n",
    "    \n",
    "    for e in range(EPOCHS):\n",
    "        \n",
    "        train_loss = 0.0\n",
    "        train_acc = 0.0\n",
    "        valid_acc = 0.0\n",
    "        \n",
    "        train_mode()\n",
    "        \n",
    "        for x, y in train_loader.next_batch():\n",
    "            loss, acc = train_step(x, y)\n",
    "            train_loss += loss\n",
    "            train_acc += acc\n",
    "            \n",
    "        train_loss /= len(train_loader)\n",
    "        train_acc /= len(train_loader)\n",
    "        \n",
    "        train_losses.append(train_loss)\n",
    "        train_accs.append(train_acc)\n",
    "            \n",
    "        eval_mode()\n",
    "        \n",
    "        with torch.no_grad():\n",
    "            for x, y in valid_loader.next_batch():\n",
    "                acc = test_step(x, y)\n",
    "                valid_acc += acc\n",
    "                \n",
    "        valid_acc /= len(valid_loader)\n",
    "        \n",
    "        valid_accs.append(valid_acc)\n",
    "        \n",
    "        torch.save(sentence_enc, \"ckpts/sentence_enc.pt\")\n",
    "        torch.save(context_enc, \"ckpts/context_enc.pt\")\n",
    "        torch.save(sentiment_clf, \"ckpts/sentiment_clf.pt\")\n",
    "        \n",
    "        clear_output(wait=True)\n",
    "\n",
    "        print(f\"Epochs {e+1}/{EPOCHS}\")\n",
    "        print(f\"Train loss: {train_loss:.6f}, train acc: {train_acc:.4f}, valid acc: {valid_acc:.4f}\")\n",
    "        \n",
    "        fig, axes = plt.subplots(1, 3, figsize=(12, 4))\n",
    "        \n",
    "        axes[0].plot(train_losses)\n",
    "        axes[0].set_title(\"train loss\")\n",
    "        axes[0].set_xlabel(\"epochs\")\n",
    "        axes[0].set_ylabel(\"loss\")\n",
    "        \n",
    "        axes[1].plot(train_accs)\n",
    "        axes[1].set_title(\"train acc\")\n",
    "        axes[1].set_xlabel(\"epochs\")\n",
    "        axes[1].set_ylabel(\"acc\")\n",
    "        \n",
    "        axes[2].plot(valid_accs)\n",
    "        axes[2].set_title(\"valid acc\")\n",
    "        axes[2].set_xlabel(\"epochs\")\n",
    "        axes[2].set_ylabel(\"acc\")\n",
    "        \n",
    "        plt.tight_layout()\n",
    "        plt.show()"
   ]
  },
  {
   "cell_type": "code",
   "execution_count": null,
   "metadata": {},
   "outputs": [],
   "source": [
    "train()"
   ]
  },
  {
   "cell_type": "code",
   "execution_count": null,
   "metadata": {},
   "outputs": [],
   "source": []
  },
  {
   "cell_type": "code",
   "execution_count": null,
   "metadata": {},
   "outputs": [],
   "source": []
  }
 ],
 "metadata": {
  "kernelspec": {
   "display_name": "Python 3",
   "language": "python",
   "name": "python3"
  },
  "language_info": {
   "codemirror_mode": {
    "name": "ipython",
    "version": 3
   },
   "file_extension": ".py",
   "mimetype": "text/x-python",
   "name": "python",
   "nbconvert_exporter": "python",
   "pygments_lexer": "ipython3",
   "version": "3.7.7"
  }
 },
 "nbformat": 4,
 "nbformat_minor": 4
}
