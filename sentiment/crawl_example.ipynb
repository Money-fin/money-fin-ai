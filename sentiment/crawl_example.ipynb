{
 "cells": [
  {
   "cell_type": "code",
   "execution_count": 1,
   "metadata": {},
   "outputs": [],
   "source": [
    "DATA = \"D:/datasets/moneyfin/SET_00013_20200101-20200630.csv\""
   ]
  },
  {
   "cell_type": "code",
   "execution_count": 4,
   "metadata": {},
   "outputs": [],
   "source": [
    "import pandas as pd\n",
    "import numpy as np\n",
    "from selenium import webdriver\n",
    "from selenium.webdriver.chrome.options import Options\n",
    "from selenium.webdriver.support.wait import WebDriverWait"
   ]
  },
  {
   "cell_type": "code",
   "execution_count": 5,
   "metadata": {},
   "outputs": [],
   "source": [
    "options = Options()\n",
    "options.headless = True"
   ]
  },
  {
   "cell_type": "code",
   "execution_count": 6,
   "metadata": {},
   "outputs": [],
   "source": [
    "browser = webdriver.Chrome(\"bin/chromedriver.exe\", options=options)"
   ]
  },
  {
   "cell_type": "code",
   "execution_count": 7,
   "metadata": {},
   "outputs": [],
   "source": [
    "browser.get(\"https://finance.naver.com/item/news_read.nhn?article_id=0004360489&office_id=014&code=203450&sm=title_entity_id.basic\")"
   ]
  },
  {
   "cell_type": "code",
   "execution_count": 9,
   "metadata": {},
   "outputs": [],
   "source": [
    "contents = browser.find_element_by_css_selector(\"#news_read\")"
   ]
  },
  {
   "cell_type": "code",
   "execution_count": 12,
   "metadata": {},
   "outputs": [
    {
     "data": {
      "text/plain": [
       "'중동 최대 보안 전시회 인터섹 참가 생체인식 기술 기업 유니온커뮤니티는 중동 최대 보안 전시회인 \\'2020 인터섹\\'에 참가해 중동 시장 입지 강화에 나선다고 20일 밝혔다.\\n\\n중동 지역의 경우 유니온커뮤니티가 매년 15% 이상 매출 성장을 보이는 수출 강세 지역이다. 올해 인터섹 전시회에서는 2020년 핵심 제품인 얼굴 인식 신제품 \\'유바이오 엑스 프로 Ⅱ\\'와 통합 보안 소프트웨어 \\'유바이오 알페타\\'를 메인으로 내세워 중동발 수출 확대에 매진할 계획이다.\\n\\n유바이오 엑스 프로 Ⅱ는 딥러닝 알고리즘을 탑재해 근접 인식 방식이 아닌 다양한 각도와 거리에서 비협조방식(워크스루)으로 얼굴을 인식할 수 있는 것이 특징이다. 유바이오 알페타는 출입통제, 근태관리를 비롯해 방문자관리, 영상 관제 등 개별적인 보안 프로그램을 하나의 프로그램 안에서 이용할 수 있다는 점이 강점이다.\\n\\n유니온커뮤니티 신요식 대표는 \"중동 시장은 생체인식 기술 및 제품에 대한 수요와 관심이 크다\"며 \"두바이 지사 운영 및 중동 전담 팀 운영 등으로 현지화 전략을 강화해 중동 지역 강자로 자리매김할 수 있도록 할 계획\"이라고 말했다.\\n\\nsolidkjy@fnnews.com 구자윤 기자\\n\\n▶ 헉! 소리나는 스!토리 뉴스 [헉스]\\n▶ 클릭해, 뉴스 들어간다 [뉴스쿨]\\n▶ 세상에 이런일이 [fn파스]\\n\\n※ 저작권자 ⓒ 파이낸셜뉴스. 무단 전재-재배포 금지\\n파이낸셜뉴스 관련뉴스해당 언론사에서 선정하며 언론사 페이지(아웃링크)로 이동해 볼 수 있습니다.\\n펜션서 40대男·20대女 숨진채 발견, 둘 관계는..\\n또 맞춤법 틀린 안철수, 방명록 보니 \\'대한민...\\'\\n117억원 빼돌린 골프장 20대 직원, 86억 쓴 곳이..\\n전남 섬 저수지서 발견된 여성 시신, 알고보니..\\n삼성전자 임원 되면 연봉 6배 상승, 월급이 무려..'"
      ]
     },
     "execution_count": 12,
     "metadata": {},
     "output_type": "execute_result"
    }
   ],
   "source": [
    "contents.text"
   ]
  },
  {
   "cell_type": "code",
   "execution_count": 14,
   "metadata": {},
   "outputs": [],
   "source": [
    "df = pd.read_csv(DATA)"
   ]
  },
  {
   "cell_type": "code",
   "execution_count": 15,
   "metadata": {},
   "outputs": [
    {
     "data": {
      "text/html": [
       "<div>\n",
       "<style scoped>\n",
       "    .dataframe tbody tr th:only-of-type {\n",
       "        vertical-align: middle;\n",
       "    }\n",
       "\n",
       "    .dataframe tbody tr th {\n",
       "        vertical-align: top;\n",
       "    }\n",
       "\n",
       "    .dataframe thead th {\n",
       "        text-align: right;\n",
       "    }\n",
       "</style>\n",
       "<table border=\"1\" class=\"dataframe\">\n",
       "  <thead>\n",
       "    <tr style=\"text-align: right;\">\n",
       "      <th></th>\n",
       "      <th>STRD_YYMMDD</th>\n",
       "      <th>ITMT_CD_NM</th>\n",
       "      <th>ITMT_CD_NM.1</th>\n",
       "      <th>ORG_TITL_NM</th>\n",
       "      <th>ORG_CTGO_NM</th>\n",
       "      <th>STRD_DTM</th>\n",
       "      <th>URL_ADDR</th>\n",
       "      <th>ORG_CTNT</th>\n",
       "      <th>BEM_IDEX_VAL</th>\n",
       "      <th>SCR_CTGO_NM</th>\n",
       "      <th>ZP</th>\n",
       "      <th>LOAD_DTM</th>\n",
       "      <th>CENTER_CD</th>\n",
       "    </tr>\n",
       "  </thead>\n",
       "  <tbody>\n",
       "    <tr>\n",
       "      <th>0</th>\n",
       "      <td>20200120</td>\n",
       "      <td>A105560</td>\n",
       "      <td>KB금융</td>\n",
       "      <td>stock</td>\n",
       "      <td>주식</td>\n",
       "      <td>20200120182400</td>\n",
       "      <td>https://finance.naver.com/item/news_read.nhn?a...</td>\n",
       "      <td>M&amp;A 뛰어든 KB금융지주, 1%대 회사채 조달 확대</td>\n",
       "      <td>0.54</td>\n",
       "      <td>긍정</td>\n",
       "      <td>7331.0</td>\n",
       "      <td>ZZZZZZ</td>\n",
       "      <td>BBP14</td>\n",
       "    </tr>\n",
       "    <tr>\n",
       "      <th>1</th>\n",
       "      <td>20200120</td>\n",
       "      <td>A032830</td>\n",
       "      <td>삼성생명</td>\n",
       "      <td>stock</td>\n",
       "      <td>주식</td>\n",
       "      <td>20200120182300</td>\n",
       "      <td>https://finance.naver.com/item/news_read.nhn?a...</td>\n",
       "      <td>금융계열사 '세대교체'..삼성생명·카드 사장에 전영묵·김대환</td>\n",
       "      <td>1.00</td>\n",
       "      <td>긍정</td>\n",
       "      <td>6620.0</td>\n",
       "      <td>ZZZZZZ</td>\n",
       "      <td>BBP14</td>\n",
       "    </tr>\n",
       "    <tr>\n",
       "      <th>2</th>\n",
       "      <td>20200120</td>\n",
       "      <td>A010950</td>\n",
       "      <td>S-Oil</td>\n",
       "      <td>stock</td>\n",
       "      <td>주식</td>\n",
       "      <td>20200120181800</td>\n",
       "      <td>https://finance.naver.com/item/news_read.nhn?a...</td>\n",
       "      <td>올해 첫 설 맞은 S-oil 대표, 쪽방촌 봉사활동</td>\n",
       "      <td>0.54</td>\n",
       "      <td>긍정</td>\n",
       "      <td>4196.0</td>\n",
       "      <td>ZZZZZZ</td>\n",
       "      <td>BBP14</td>\n",
       "    </tr>\n",
       "    <tr>\n",
       "      <th>3</th>\n",
       "      <td>20200120</td>\n",
       "      <td>A000150</td>\n",
       "      <td>두산</td>\n",
       "      <td>stock</td>\n",
       "      <td>주식</td>\n",
       "      <td>20200120182100</td>\n",
       "      <td>https://finance.naver.com/item/news_read.nhn?a...</td>\n",
       "      <td>[포토]조문 마친 박정원 두산 회장</td>\n",
       "      <td>0.54</td>\n",
       "      <td>긍정</td>\n",
       "      <td>4563.0</td>\n",
       "      <td>ZZZZZZ</td>\n",
       "      <td>BBP14</td>\n",
       "    </tr>\n",
       "    <tr>\n",
       "      <th>4</th>\n",
       "      <td>20200120</td>\n",
       "      <td>A005380</td>\n",
       "      <td>현대자동차</td>\n",
       "      <td>stock</td>\n",
       "      <td>주식</td>\n",
       "      <td>20200120182400</td>\n",
       "      <td>https://finance.naver.com/item/news_read.nhn?a...</td>\n",
       "      <td>현대차 \"中서 수소전기차 생산\"</td>\n",
       "      <td>5.00</td>\n",
       "      <td>긍정</td>\n",
       "      <td>6797.0</td>\n",
       "      <td>ZZZZZZ</td>\n",
       "      <td>BBP14</td>\n",
       "    </tr>\n",
       "  </tbody>\n",
       "</table>\n",
       "</div>"
      ],
      "text/plain": [
       "   STRD_YYMMDD ITMT_CD_NM ITMT_CD_NM.1 ORG_TITL_NM ORG_CTGO_NM  \\\n",
       "0     20200120    A105560         KB금융       stock          주식   \n",
       "1     20200120    A032830         삼성생명       stock          주식   \n",
       "2     20200120    A010950        S-Oil       stock          주식   \n",
       "3     20200120    A000150           두산       stock          주식   \n",
       "4     20200120    A005380        현대자동차       stock          주식   \n",
       "\n",
       "         STRD_DTM                                           URL_ADDR  \\\n",
       "0  20200120182400  https://finance.naver.com/item/news_read.nhn?a...   \n",
       "1  20200120182300  https://finance.naver.com/item/news_read.nhn?a...   \n",
       "2  20200120181800  https://finance.naver.com/item/news_read.nhn?a...   \n",
       "3  20200120182100  https://finance.naver.com/item/news_read.nhn?a...   \n",
       "4  20200120182400  https://finance.naver.com/item/news_read.nhn?a...   \n",
       "\n",
       "                            ORG_CTNT  BEM_IDEX_VAL SCR_CTGO_NM      ZP  \\\n",
       "0      M&A 뛰어든 KB금융지주, 1%대 회사채 조달 확대          0.54          긍정  7331.0   \n",
       "1  금융계열사 '세대교체'..삼성생명·카드 사장에 전영묵·김대환          1.00          긍정  6620.0   \n",
       "2       올해 첫 설 맞은 S-oil 대표, 쪽방촌 봉사활동          0.54          긍정  4196.0   \n",
       "3                [포토]조문 마친 박정원 두산 회장          0.54          긍정  4563.0   \n",
       "4                  현대차 \"中서 수소전기차 생산\"          5.00          긍정  6797.0   \n",
       "\n",
       "  LOAD_DTM CENTER_CD  \n",
       "0   ZZZZZZ     BBP14  \n",
       "1   ZZZZZZ     BBP14  \n",
       "2   ZZZZZZ     BBP14  \n",
       "3   ZZZZZZ     BBP14  \n",
       "4   ZZZZZZ     BBP14  "
      ]
     },
     "execution_count": 15,
     "metadata": {},
     "output_type": "execute_result"
    }
   ],
   "source": [
    "df.head()"
   ]
  },
  {
   "cell_type": "code",
   "execution_count": 17,
   "metadata": {},
   "outputs": [
    {
     "data": {
      "text/plain": [
       "array(['주식'], dtype=object)"
      ]
     },
     "execution_count": 17,
     "metadata": {},
     "output_type": "execute_result"
    }
   ],
   "source": [
    "df[\"ORG_CTGO_NM\"].unique()"
   ]
  },
  {
   "cell_type": "code",
   "execution_count": 18,
   "metadata": {},
   "outputs": [
    {
     "data": {
      "text/plain": [
       "array(['https://finance.naver.com/item/news_read.nhn?article_id=0004360451&office_id=014&code=105560&sm=title_entity_id.basic',\n",
       "       'https://finance.naver.com/item/news_read.nhn?article_id=0004343417&office_id=008&code=032830&sm=title_entity_id.basic',\n",
       "       'https://finance.naver.com/item/news_read.nhn?article_id=0001626300&office_id=016&code=010950&sm=title_entity_id.basic',\n",
       "       ...,\n",
       "       'https://finance.naver.com/item/news_read.nhn?article_id=0004370932&office_id=015&code=035420&sm=title_entity_id.basic',\n",
       "       'https://finance.naver.com/item/news_read.nhn?article_id=0004370930&office_id=015&code=029780&sm=title_entity_id.basic',\n",
       "       'https://finance.naver.com/item/news_read.nhn?article_id=0004677141&office_id=018&code=005930&sm=title_entity_id.basic'],\n",
       "      dtype=object)"
      ]
     },
     "execution_count": 18,
     "metadata": {},
     "output_type": "execute_result"
    }
   ],
   "source": [
    "df[\"URL_ADDR\"].values"
   ]
  },
  {
   "cell_type": "code",
   "execution_count": 24,
   "metadata": {},
   "outputs": [
    {
     "data": {
      "text/plain": [
       "(76768, 13)"
      ]
     },
     "execution_count": 24,
     "metadata": {},
     "output_type": "execute_result"
    }
   ],
   "source": [
    "df[df[\"SCR_CTGO_NM\"] == \"긍정\"].shape"
   ]
  },
  {
   "cell_type": "code",
   "execution_count": 25,
   "metadata": {},
   "outputs": [
    {
     "data": {
      "text/plain": [
       "(17740, 13)"
      ]
     },
     "execution_count": 25,
     "metadata": {},
     "output_type": "execute_result"
    }
   ],
   "source": [
    "df[df[\"SCR_CTGO_NM\"] == \"부정\"].shape"
   ]
  },
  {
   "cell_type": "code",
   "execution_count": 26,
   "metadata": {},
   "outputs": [
    {
     "data": {
      "text/plain": [
       "(4592, 13)"
      ]
     },
     "execution_count": 26,
     "metadata": {},
     "output_type": "execute_result"
    }
   ],
   "source": [
    "df[df[\"SCR_CTGO_NM\"] == \"중립\"].shape"
   ]
  },
  {
   "cell_type": "code",
   "execution_count": 4,
   "metadata": {},
   "outputs": [
    {
     "name": "stdout",
     "output_type": "stream",
     "text": [
      "num of 1: 15126\n",
      "num of 0: 3035\n",
      "0.83288366\n"
     ]
    }
   ],
   "source": [
    "import pathlib\n",
    "import numpy as np\n",
    "\n",
    "labels = []\n",
    "DATA_PATH = \"D:/datasets/moneyfin/text/\"\n",
    "\n",
    "for f in pathlib.Path(DATA_PATH).glob(\"*.txt\"):\n",
    "    with open(str(f), \"r\", encoding=\"utf8\") as file:\n",
    "        labels.append(int(file.readline()))\n",
    "        \n",
    "labels = np.array(labels).astype(np.float32)\n",
    "\n",
    "print(\"num of 1:\", np.sum(labels == 1))\n",
    "print(\"num of 0:\", np.sum(labels == 0))\n",
    "print(np.mean(labels))"
   ]
  },
  {
   "cell_type": "code",
   "execution_count": 1,
   "metadata": {},
   "outputs": [
    {
     "data": {
      "text/plain": [
       "['__class__',\n",
       " '__contains__',\n",
       " '__delattr__',\n",
       " '__dict__',\n",
       " '__dir__',\n",
       " '__doc__',\n",
       " '__eq__',\n",
       " '__format__',\n",
       " '__ge__',\n",
       " '__getattribute__',\n",
       " '__getitem__',\n",
       " '__gt__',\n",
       " '__hash__',\n",
       " '__init__',\n",
       " '__init_subclass__',\n",
       " '__le__',\n",
       " '__lt__',\n",
       " '__module__',\n",
       " '__ne__',\n",
       " '__new__',\n",
       " '__reduce__',\n",
       " '__reduce_ex__',\n",
       " '__repr__',\n",
       " '__setattr__',\n",
       " '__sizeof__',\n",
       " '__str__',\n",
       " '__subclasshook__',\n",
       " '__weakref__',\n",
       " '_adapt_by_suffix',\n",
       " '_check_input_data_sanity',\n",
       " '_check_training_sanity',\n",
       " '_clear_post_train',\n",
       " '_do_train_epoch',\n",
       " '_do_train_job',\n",
       " '_get_job_params',\n",
       " '_get_thread_working_mem',\n",
       " '_job_producer',\n",
       " '_load_specials',\n",
       " '_log_epoch_end',\n",
       " '_log_epoch_progress',\n",
       " '_log_progress',\n",
       " '_log_train_end',\n",
       " '_minimize_model',\n",
       " '_raw_word_count',\n",
       " '_save_specials',\n",
       " '_set_train_params',\n",
       " '_smart_save',\n",
       " '_train_epoch',\n",
       " '_train_epoch_corpusfile',\n",
       " '_update_job_params',\n",
       " '_worker_loop',\n",
       " '_worker_loop_corpusfile',\n",
       " 'accuracy',\n",
       " 'alpha',\n",
       " 'batch_words',\n",
       " 'build_vocab',\n",
       " 'build_vocab_from_freq',\n",
       " 'callbacks',\n",
       " 'cbow_mean',\n",
       " 'clear_sims',\n",
       " 'compute_loss',\n",
       " 'corpus_count',\n",
       " 'corpus_total_words',\n",
       " 'cum_table',\n",
       " 'delete_temporary_training_data',\n",
       " 'doesnt_match',\n",
       " 'epochs',\n",
       " 'estimate_memory',\n",
       " 'evaluate_word_pairs',\n",
       " 'get_latest_training_loss',\n",
       " 'hashfxn',\n",
       " 'hs',\n",
       " 'init_sims',\n",
       " 'intersect_word2vec_format',\n",
       " 'iter',\n",
       " 'layer1_size',\n",
       " 'load',\n",
       " 'load_word2vec_format',\n",
       " 'log_accuracy',\n",
       " 'max_final_vocab',\n",
       " 'min_alpha',\n",
       " 'min_alpha_yet_reached',\n",
       " 'min_count',\n",
       " 'model_trimmed_post_training',\n",
       " 'most_similar',\n",
       " 'most_similar_cosmul',\n",
       " 'n_similarity',\n",
       " 'negative',\n",
       " 'ns_exponent',\n",
       " 'predict_output_word',\n",
       " 'random',\n",
       " 'reset_from',\n",
       " 'running_training_loss',\n",
       " 'sample',\n",
       " 'save',\n",
       " 'save_word2vec_format',\n",
       " 'score',\n",
       " 'sg',\n",
       " 'similar_by_vector',\n",
       " 'similar_by_word',\n",
       " 'similarity',\n",
       " 'syn0_lockf',\n",
       " 'syn1',\n",
       " 'syn1neg',\n",
       " 'total_train_time',\n",
       " 'train',\n",
       " 'train_count',\n",
       " 'trainables',\n",
       " 'vector_size',\n",
       " 'vocabulary',\n",
       " 'window',\n",
       " 'wmdistance',\n",
       " 'workers',\n",
       " 'wv']"
      ]
     },
     "execution_count": 1,
     "metadata": {},
     "output_type": "execute_result"
    }
   ],
   "source": [
    "from gensim.models.word2vec import Word2Vec\n",
    "\n",
    "wv = Word2Vec.load(\"embedding/ko.bin\")\n",
    "dir(wv)"
   ]
  },
  {
   "cell_type": "code",
   "execution_count": 9,
   "metadata": {},
   "outputs": [
    {
     "data": {
      "text/plain": [
       "['__class__',\n",
       " '__contains__',\n",
       " '__delattr__',\n",
       " '__dict__',\n",
       " '__dir__',\n",
       " '__doc__',\n",
       " '__eq__',\n",
       " '__format__',\n",
       " '__ge__',\n",
       " '__getattribute__',\n",
       " '__getitem__',\n",
       " '__gt__',\n",
       " '__hash__',\n",
       " '__init__',\n",
       " '__init_subclass__',\n",
       " '__le__',\n",
       " '__lt__',\n",
       " '__module__',\n",
       " '__ne__',\n",
       " '__new__',\n",
       " '__reduce__',\n",
       " '__reduce_ex__',\n",
       " '__repr__',\n",
       " '__setattr__',\n",
       " '__setitem__',\n",
       " '__sizeof__',\n",
       " '__str__',\n",
       " '__subclasshook__',\n",
       " '__weakref__',\n",
       " '_adapt_by_suffix',\n",
       " '_load_specials',\n",
       " '_log_evaluate_word_analogies',\n",
       " '_save_specials',\n",
       " '_smart_save',\n",
       " 'accuracy',\n",
       " 'add',\n",
       " 'closer_than',\n",
       " 'cosine_similarities',\n",
       " 'distance',\n",
       " 'distances',\n",
       " 'doesnt_match',\n",
       " 'evaluate_word_analogies',\n",
       " 'evaluate_word_pairs',\n",
       " 'get_keras_embedding',\n",
       " 'get_vector',\n",
       " 'index2entity',\n",
       " 'index2word',\n",
       " 'init_sims',\n",
       " 'load',\n",
       " 'load_word2vec_format',\n",
       " 'log_accuracy',\n",
       " 'log_evaluate_word_pairs',\n",
       " 'most_similar',\n",
       " 'most_similar_cosmul',\n",
       " 'most_similar_to_given',\n",
       " 'n_similarity',\n",
       " 'rank',\n",
       " 'relative_cosine_similarity',\n",
       " 'save',\n",
       " 'save_word2vec_format',\n",
       " 'similar_by_vector',\n",
       " 'similar_by_word',\n",
       " 'similarity',\n",
       " 'similarity_matrix',\n",
       " 'syn0',\n",
       " 'syn0norm',\n",
       " 'vector_size',\n",
       " 'vectors',\n",
       " 'vectors_norm',\n",
       " 'vocab',\n",
       " 'wmdistance',\n",
       " 'word_vec',\n",
       " 'words_closer_than',\n",
       " 'wv']"
      ]
     },
     "execution_count": 9,
     "metadata": {},
     "output_type": "execute_result"
    }
   ],
   "source": [
    "dir(wv.wv)"
   ]
  },
  {
   "cell_type": "code",
   "execution_count": 8,
   "metadata": {},
   "outputs": [
    {
     "data": {
      "text/plain": [
       "7154"
      ]
     },
     "execution_count": 8,
     "metadata": {},
     "output_type": "execute_result"
    }
   ],
   "source": [
    "wv.wv.vocab.get(\"김치\").index"
   ]
  },
  {
   "cell_type": "code",
   "execution_count": null,
   "metadata": {},
   "outputs": [],
   "source": []
  }
 ],
 "metadata": {
  "kernelspec": {
   "display_name": "Python 3",
   "language": "python",
   "name": "python3"
  },
  "language_info": {
   "codemirror_mode": {
    "name": "ipython",
    "version": 3
   },
   "file_extension": ".py",
   "mimetype": "text/x-python",
   "name": "python",
   "nbconvert_exporter": "python",
   "pygments_lexer": "ipython3",
   "version": "3.8.5"
  }
 },
 "nbformat": 4,
 "nbformat_minor": 4
}
